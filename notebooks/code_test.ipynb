{
 "cells": [
  {
   "cell_type": "markdown",
   "metadata": {},
   "source": [
    "## 代码测试 notebook\n",
    "\n",
    "构建测试环境，使能够索引模块路径"
   ]
  },
  {
   "cell_type": "code",
   "execution_count": 1,
   "metadata": {},
   "outputs": [
    {
     "name": "stdout",
     "output_type": "stream",
     "text": [
      "/home/brhu/WorkStation/Programming/Python/detr-s\n"
     ]
    }
   ],
   "source": [
    "import os\n",
    "import sys\n",
    " \n",
    "cur_dir = os.getcwd()\n",
    "pkg_rootdir = os.path.dirname(cur_dir)\n",
    "# pkg_rootdir = os.path.dirname(os.path.dirname(cur_dir))\n",
    "print(pkg_rootdir)\n",
    "if pkg_rootdir not in sys.path:\n",
    "    sys.path.append(pkg_rootdir)"
   ]
  },
  {
   "cell_type": "markdown",
   "metadata": {},
   "source": [
    "### 测试 backbone类"
   ]
  },
  {
   "cell_type": "code",
   "execution_count": 2,
   "metadata": {},
   "outputs": [
    {
     "name": "stdout",
     "output_type": "stream",
     "text": [
      "Backbone(\n",
      "  (body): IntermediateLayerGetter(\n",
      "    (conv1): Conv2d(3, 64, kernel_size=(7, 7), stride=(2, 2), padding=(3, 3), bias=False)\n",
      "    (bn1): FrozenBatchNorm2d()\n",
      "    (relu): ReLU(inplace=True)\n",
      "    (maxpool): MaxPool2d(kernel_size=3, stride=2, padding=1, dilation=1, ceil_mode=False)\n",
      "    (layer1): Sequential(\n",
      "      (0): BasicBlock(\n",
      "        (conv1): Conv2d(64, 64, kernel_size=(3, 3), stride=(1, 1), padding=(1, 1), bias=False)\n",
      "        (bn1): FrozenBatchNorm2d()\n",
      "        (relu): ReLU(inplace=True)\n",
      "        (conv2): Conv2d(64, 64, kernel_size=(3, 3), stride=(1, 1), padding=(1, 1), bias=False)\n",
      "        (bn2): FrozenBatchNorm2d()\n",
      "      )\n",
      "      (1): BasicBlock(\n",
      "        (conv1): Conv2d(64, 64, kernel_size=(3, 3), stride=(1, 1), padding=(1, 1), bias=False)\n",
      "        (bn1): FrozenBatchNorm2d()\n",
      "        (relu): ReLU(inplace=True)\n",
      "        (conv2): Conv2d(64, 64, kernel_size=(3, 3), stride=(1, 1), padding=(1, 1), bias=False)\n",
      "        (bn2): FrozenBatchNorm2d()\n",
      "      )\n",
      "    )\n",
      "    (layer2): Sequential(\n",
      "      (0): BasicBlock(\n",
      "        (conv1): Conv2d(64, 128, kernel_size=(3, 3), stride=(2, 2), padding=(1, 1), bias=False)\n",
      "        (bn1): FrozenBatchNorm2d()\n",
      "        (relu): ReLU(inplace=True)\n",
      "        (conv2): Conv2d(128, 128, kernel_size=(3, 3), stride=(1, 1), padding=(1, 1), bias=False)\n",
      "        (bn2): FrozenBatchNorm2d()\n",
      "        (downsample): Sequential(\n",
      "          (0): Conv2d(64, 128, kernel_size=(1, 1), stride=(2, 2), bias=False)\n",
      "          (1): FrozenBatchNorm2d()\n",
      "        )\n",
      "      )\n",
      "      (1): BasicBlock(\n",
      "        (conv1): Conv2d(128, 128, kernel_size=(3, 3), stride=(1, 1), padding=(1, 1), bias=False)\n",
      "        (bn1): FrozenBatchNorm2d()\n",
      "        (relu): ReLU(inplace=True)\n",
      "        (conv2): Conv2d(128, 128, kernel_size=(3, 3), stride=(1, 1), padding=(1, 1), bias=False)\n",
      "        (bn2): FrozenBatchNorm2d()\n",
      "      )\n",
      "    )\n",
      "    (layer3): Sequential(\n",
      "      (0): BasicBlock(\n",
      "        (conv1): Conv2d(128, 256, kernel_size=(3, 3), stride=(2, 2), padding=(1, 1), bias=False)\n",
      "        (bn1): FrozenBatchNorm2d()\n",
      "        (relu): ReLU(inplace=True)\n",
      "        (conv2): Conv2d(256, 256, kernel_size=(3, 3), stride=(1, 1), padding=(1, 1), bias=False)\n",
      "        (bn2): FrozenBatchNorm2d()\n",
      "        (downsample): Sequential(\n",
      "          (0): Conv2d(128, 256, kernel_size=(1, 1), stride=(2, 2), bias=False)\n",
      "          (1): FrozenBatchNorm2d()\n",
      "        )\n",
      "      )\n",
      "      (1): BasicBlock(\n",
      "        (conv1): Conv2d(256, 256, kernel_size=(3, 3), stride=(1, 1), padding=(1, 1), bias=False)\n",
      "        (bn1): FrozenBatchNorm2d()\n",
      "        (relu): ReLU(inplace=True)\n",
      "        (conv2): Conv2d(256, 256, kernel_size=(3, 3), stride=(1, 1), padding=(1, 1), bias=False)\n",
      "        (bn2): FrozenBatchNorm2d()\n",
      "      )\n",
      "    )\n",
      "    (layer4): Sequential(\n",
      "      (0): BasicBlock(\n",
      "        (conv1): Conv2d(256, 512, kernel_size=(3, 3), stride=(2, 2), padding=(1, 1), bias=False)\n",
      "        (bn1): FrozenBatchNorm2d()\n",
      "        (relu): ReLU(inplace=True)\n",
      "        (conv2): Conv2d(512, 512, kernel_size=(3, 3), stride=(1, 1), padding=(1, 1), bias=False)\n",
      "        (bn2): FrozenBatchNorm2d()\n",
      "        (downsample): Sequential(\n",
      "          (0): Conv2d(256, 512, kernel_size=(1, 1), stride=(2, 2), bias=False)\n",
      "          (1): FrozenBatchNorm2d()\n",
      "        )\n",
      "      )\n",
      "      (1): BasicBlock(\n",
      "        (conv1): Conv2d(512, 512, kernel_size=(3, 3), stride=(1, 1), padding=(1, 1), bias=False)\n",
      "        (bn1): FrozenBatchNorm2d()\n",
      "        (relu): ReLU(inplace=True)\n",
      "        (conv2): Conv2d(512, 512, kernel_size=(3, 3), stride=(1, 1), padding=(1, 1), bias=False)\n",
      "        (bn2): FrozenBatchNorm2d()\n",
      "      )\n",
      "    )\n",
      "  )\n",
      ")\n"
     ]
    }
   ],
   "source": [
    "# test code for models.backbone\n",
    "import torch\n",
    "from models.backbone import Backbone\n",
    "\n",
    "name = 'resnet18'  # Example backbone name\n",
    "train_backbone = True  # Example train_backbone value\n",
    "return_interm_layers = True  # Example return_interm_layers value\n",
    "dilation = False  # Example dilation value\n",
    "\n",
    "backbone_instance = Backbone(name, train_backbone, return_interm_layers, dilation)\n",
    "# 打印模型结构信息\n",
    "print(backbone_instance)\n",
    "\n",
    "# torch.save(backbone_instance.state_dict(), 'backbone.pth')"
   ]
  },
  {
   "cell_type": "markdown",
   "metadata": {},
   "source": [
    "### 测试位置编码类"
   ]
  },
  {
   "cell_type": "code",
   "execution_count": 3,
   "metadata": {},
   "outputs": [
    {
     "name": "stderr",
     "output_type": "stream",
     "text": [
      "/home/brhu/WorkStation/Programming/Python/detr-s/models/pos_encodeing.py:35: UserWarning: __floordiv__ is deprecated, and its behavior will change in a future version of pytorch. It currently rounds toward 0 (like the 'trunc' function NOT 'floor'). This results in incorrect rounding for negative values. To keep the current behavior, use torch.div(a, b, rounding_mode='trunc'), or for actual floor division, use torch.div(a, b, rounding_mode='floor').\n",
      "  dim_t = self.temperature ** (2 * (dim_t // 2) / self.num_pos_feats)\n"
     ]
    },
    {
     "name": "stdout",
     "output_type": "stream",
     "text": [
      "torch.Size([2, 256, 25, 25])\n"
     ]
    },
    {
     "data": {
      "image/png": "[encoded data removed]",
      "text/plain": [
       "<Figure size 640x480 with 4 Axes>"
      ]
     },
     "metadata": {},
     "output_type": "display_data"
    }
   ],
   "source": [
    "from models.pos_encodeing import PositionEmbeddingSine\n",
    "import matplotlib.pyplot as plt\n",
    "from util.misc import NestedTensor\n",
    "\n",
    "# 创建一个示例输入\n",
    "batch_size = 2\n",
    "tensor = torch.randn(batch_size, 25, 25)\n",
    "# 创建掩码\n",
    "mask_shape = (batch_size, 25, 25)\n",
    "mask = torch.rand(mask_shape) > 0.5\n",
    "# mask = torch.rand(3, 25, 25, dtype=torch.bool)\n",
    "tensor_list = NestedTensor(tensor, mask)\n",
    "\n",
    "# 实例化类\n",
    "pos_embedding = PositionEmbeddingSine(num_pos_feats=128, normalize=True, scale=None)\n",
    "\n",
    "# 调用 forward 方法计算位置编码\n",
    "pos_embed = pos_embedding(tensor_list)\n",
    "\n",
    "print(pos_embed.shape)\n",
    "\n",
    "# 可视化位置编码结果\n",
    "# plt.imshow(output[0].mean(dim=0).detach().numpy(), cmap='hot')\n",
    "# plt.colorbar()\n",
    "# plt.show()\n",
    "\n",
    "fig, axs = plt.subplots(1, 2)\n",
    "\n",
    "# 在第一个子图中绘制图像1\n",
    "im1 = axs[0].imshow(pos_embed[0].mean(dim=1).detach().numpy(), cmap='viridis')\n",
    "axs[0].set_title('Mean along dim=1')\n",
    "fig.colorbar(im1, ax=axs[0])\n",
    "\n",
    "# 在第二个子图中绘制图像2\n",
    "im2 = axs[1].imshow(pos_embed[0].mean(dim=2).detach().numpy(), cmap='viridis')\n",
    "axs[1].set_title('Mean along dim=2')\n",
    "fig.colorbar(im2, ax=axs[1])\n",
    "\n",
    "# 调整子图之间的距离\n",
    "fig.tight_layout()\n",
    "\n",
    "# 显示图形\n",
    "plt.show()"
   ]
  },
  {
   "cell_type": "markdown",
   "metadata": {},
   "source": [
    "### 测试 Transformer类"
   ]
  },
  {
   "cell_type": "code",
   "execution_count": 4,
   "metadata": {},
   "outputs": [
    {
     "name": "stdout",
     "output_type": "stream",
     "text": [
      "Embedding(100, 256)\n",
      "torch.Size([1, 2, 100, 256])\n",
      "torch.Size([2, 256, 25, 25])\n"
     ]
    }
   ],
   "source": [
    "from models.transformer import Transformer\n",
    "import torch.nn as nn\n",
    "\n",
    "# 创建示例输入\n",
    "src = torch.rand(batch_size, 256, 25, 25)  # 输入序列\n",
    "# # 创建掩码\n",
    "# mask_shape = (2, 25, 25)\n",
    "# mask = torch.rand(mask_shape) > 0.5\n",
    "tensor = NestedTensor(src, mask)\n",
    "\n",
    "d_model = src.shape[1]\n",
    "transformer_instance = Transformer(d_model=d_model, nhead=8, num_encoder_layers=6,\n",
    "                 num_decoder_layers=6, dim_feedforward=2048, dropout=0.1,\n",
    "                 activation=\"relu\", normalize_before=False,\n",
    "                 return_intermediate_dec=False)\n",
    "num_queries = 100\n",
    "hidden_dim = d_model\n",
    "query_embed = nn.Embedding(num_queries, hidden_dim)\n",
    "print(query_embed)\n",
    "\n",
    "hs, memory = transformer_instance(tensor.tensors, tensor.mask, query_embed.weight, pos_embed=pos_embed)\n",
    "\n",
    "print(hs.shape)\n",
    "print(memory.shape)"
   ]
  },
  {
   "cell_type": "markdown",
   "metadata": {},
   "source": [
    "### 测试 DETR 模型"
   ]
  },
  {
   "cell_type": "code",
   "execution_count": 5,
   "metadata": {},
   "outputs": [
    {
     "name": "stdout",
     "output_type": "stream",
     "text": [
      "torch.Size([2, 100, 92])\n",
      "torch.Size([2, 100, 4])\n",
      "dict_keys(['scores', 'labels', 'boxes'])\n"
     ]
    }
   ],
   "source": [
    "from models.detr import DETR, PostProcess\n",
    "from models.backbone import Joiner\n",
    "\n",
    "backbone = Joiner(backbone_instance, pos_embedding)\n",
    "backbone.num_channels = backbone_instance.num_channels\n",
    "transformer = transformer_instance  # 定义您的transformer模型\n",
    "num_classes = 91  # 定义目标类别数量\n",
    "num_queries = 100  # 定义查询数量\n",
    "detr_model = DETR(backbone, transformer, num_classes, num_queries)\n",
    "\n",
    "# 创建一个示例输入\n",
    "image = torch.randn(batch_size, 3, 640, 640)  # 输入图像，假设为224x224大小的RGB图像\n",
    "# samples = [{'tensor': image, 'mask': None}]  # 构建NestedTensor示例\n",
    "samples = image\n",
    "\n",
    "output = detr_model(samples)\n",
    "\n",
    "pred_logits = output['pred_logits']\n",
    "pred_boxes = output['pred_boxes']\n",
    "\n",
    "print(pred_logits.shape)\n",
    "print(pred_boxes.shape)\n",
    "\n",
    "# 网络结果后处理\n",
    "postprocess = PostProcess()\n",
    "detections = postprocess(output, torch.ones(batch_size, 2)*640)\n",
    "\n",
    "print(detections[0].keys())"
   ]
  },
  {
   "cell_type": "markdown",
   "metadata": {},
   "source": [
    "### 测试匈牙利算法"
   ]
  },
  {
   "cell_type": "code",
   "execution_count": 6,
   "metadata": {},
   "outputs": [
    {
     "name": "stdout",
     "output_type": "stream",
     "text": [
      "torch.Size([200, 92])\n",
      "torch.Size([200, 92])\n",
      "tensor([[0.5000, 0.5000],\n",
      "        [2.5000, 2.5000],\n",
      "        [1.1180, 1.1180]], dtype=torch.float64)\n"
     ]
    }
   ],
   "source": [
    "test_tensor = torch.randn(2, 100, 92)\n",
    "test_tensor = test_tensor.flatten(0, 1)\n",
    "print(test_tensor.shape)\n",
    "\n",
    "test_tensor = test_tensor.softmax(-1)\n",
    "print(test_tensor.shape)\n",
    "\n",
    "x1 = torch.tensor([[1, 1, 1, 1], [3, 3, 1, 1], [2, 2, 1, 1]], dtype=float)  # 第一组点的坐标\n",
    "x2 = torch.tensor([[1.5, 1, 1, 1], [1, 1.5, 1, 1]], dtype=float)  # 第二组点的坐标\n",
    "\n",
    "distances = torch.cdist(x1, x2, p=2)  # 计算欧氏距离\n",
    "print(distances)"
   ]
  },
  {
   "cell_type": "code",
   "execution_count": 10,
   "metadata": {},
   "outputs": [
    {
     "name": "stdout",
     "output_type": "stream",
     "text": [
      "(tensor([ 0,  1,  2,  3,  4,  5,  6,  7,  8,  9, 10, 11, 12, 13, 14, 15, 16, 17,\n",
      "        18, 19, 20, 21, 22, 23, 24, 25, 26, 27, 28, 29, 30, 31, 32, 33, 34, 35,\n",
      "        36, 37, 38, 39, 40, 41, 42, 43, 44, 45, 46, 47, 48, 49, 50, 51, 52, 53,\n",
      "        54, 55, 56, 57, 58, 59, 60, 61, 62, 63, 64, 65, 66, 67, 68, 69, 70, 71,\n",
      "        72, 73, 74, 75, 76, 77, 78, 79, 80, 81, 82, 83, 84, 85, 86, 87, 88, 89,\n",
      "        90, 91, 92, 93, 94, 95, 96, 97, 98, 99]), tensor([68, 72, 27,  3, 53, 89, 74, 86, 38, 40,  1, 99, 11, 46, 24, 13, 47, 26,\n",
      "        14, 34,  9, 92, 96, 56,  4, 61, 48,  2, 19, 25,  0, 45, 67, 59, 79, 80,\n",
      "        23, 76, 35, 18, 17, 64, 21, 97, 44, 75, 51, 65, 41, 78, 50, 15, 52, 29,\n",
      "        54, 90, 36, 57, 70, 93, 43, 66, 55, 63, 83, 62, 32, 94, 30, 84, 91, 39,\n",
      "        20, 73,  5, 77, 37, 71, 49,  6, 31, 98, 85, 10, 60, 82, 69, 87, 16, 22,\n",
      "        33,  8, 81, 42, 58, 95, 28,  7, 88, 12]))\n",
      "(tensor([ 0,  1,  2,  3,  4,  5,  6,  7,  8,  9, 10, 11, 12, 13, 14, 15, 16, 17,\n",
      "        18, 19, 20, 21, 22, 23, 24, 25, 26, 27, 28, 29, 30, 31, 32, 33, 34, 35,\n",
      "        36, 37, 38, 39, 40, 41, 42, 43, 44, 45, 46, 47, 48, 49, 50, 51, 52, 53,\n",
      "        54, 55, 56, 57, 58, 59, 60, 61, 62, 63, 64, 65, 66, 67, 68, 69, 70, 71,\n",
      "        72, 73, 74, 75, 76, 77, 78, 79, 80, 81, 82, 83, 84, 85, 86, 87, 88, 89,\n",
      "        90, 91, 92, 93, 94, 95, 96, 97, 98, 99]), tensor([52, 43, 81, 71, 75, 26, 38, 40, 20, 76, 55, 13,  5, 14, 82, 15, 24, 17,\n",
      "        54,  1, 50, 21, 42, 31, 36, 25, 95, 29,  9, 12, 35, 87, 85, 33, 34, 96,\n",
      "        41, 19, 30, 39, 79, 67, 59, 88, 44, 69, 51, 48, 27,  2,  8, 11,  6, 53,\n",
      "        22, 86, 70, 66, 93, 18, 47,  0, 62, 23, 63, 64,  3, 60, 98, 45, 80, 78,\n",
      "        84, 68, 74, 46, 65, 89, 57, 77, 61, 32, 58, 56,  7, 73, 72, 91, 10, 28,\n",
      "        37, 94, 97,  4, 90, 83, 16, 92, 49, 99]))\n"
     ]
    }
   ],
   "source": [
    "from models.matcher import HungarianMatcher\n",
    "\n",
    "matcher = HungarianMatcher(cost_class=1, cost_bbox=5, cost_giou=2)\n",
    "\n",
    "# 创建真实标签\n",
    "gt_target = detections\n",
    "\n",
    "i, j = matcher(output, gt_target)\n",
    "\n",
    "print(i)\n",
    "print(j)"
   ]
  }
 ],
 "metadata": {
  "kernelspec": {
   "display_name": "goldyolo",
   "language": "python",
   "name": "python3"
  },
  "language_info": {
   "codemirror_mode": {
    "name": "ipython",
    "version": 3
   },
   "file_extension": ".py",
   "mimetype": "text/x-python",
   "name": "python",
   "nbconvert_exporter": "python",
   "pygments_lexer": "ipython3",
   "version": "3.9.18"
  },
  "orig_nbformat": 4
 },
 "nbformat": 4,
 "nbformat_minor": 2
}
